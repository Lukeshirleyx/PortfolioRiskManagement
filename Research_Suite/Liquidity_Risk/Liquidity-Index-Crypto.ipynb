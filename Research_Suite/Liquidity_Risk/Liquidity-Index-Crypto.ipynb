{
 "nbformat": 4,
 "nbformat_minor": 2,
 "metadata": {
  "language_info": {
   "name": "python",
   "codemirror_mode": {
    "name": "ipython",
    "version": 3
   },
   "version": "3.7.3-final"
  },
  "orig_nbformat": 2,
  "file_extension": ".py",
  "mimetype": "text/x-python",
  "name": "python",
  "npconvert_exporter": "python",
  "pygments_lexer": "ipython3",
  "version": 3,
  "kernelspec": {
   "name": "python37364bitbaseconda5994b4e167854476be8aec73de17ebc4",
   "display_name": "Python 3.7.3 64-bit ('base': conda)"
  }
 },
 "cells": [
  {
   "cell_type": "code",
   "execution_count": 36,
   "metadata": {},
   "outputs": [
    {
     "name": "stdout",
     "output_type": "stream",
     "text": "BTC Exposure in USD: $81,549,248.80\nBTC Messsari adjusted 24/hr volume: $460,545,970.18\nWARNING: BTC exposure is above 2% liquidity threshold at 17.71%\n\nETH Exposure in USD: $145,040.57\nETH Messsari adjusted 24/hr volume: $80,146,011.24\nETH exposure is liquid at 0.18097%\n\nDOGE Exposure in USD: $2.21\nDOGE Messsari adjusted 24/hr volume: $253,362.31\nDOGE exposure is liquid at 0.00087%\n\n"
    }
   ],
   "source": [
    "# Import libraries\n",
    "import numpy as np\n",
    "import json\n",
    "from six.moves import urllib\n",
    "\n",
    "# Build Portfolio\n",
    "tickers = np.array([\"BTC\", \"ETH\", \"DOGE\"])\n",
    "assets = np.array([10000.0, 1000.0, 1000.0]) \n",
    "exposures = np.zeros(3)\n",
    "\n",
    "# Pull price & volume data from Messari and calculate exposures\n",
    "for i, ticker in enumerate(tickers):\n",
    "    url = \"https://data.messari.io/api/v1/assets/\" + ticker + \"/metrics/market-data\"\n",
    "    # Pull Data\n",
    "    pullData = urllib.request.urlopen(url).read()\n",
    "    # Format data to json dictionary\n",
    "    format_to_json = json.loads(pullData)\n",
    "    # Parse data\n",
    "    price = format_to_json['data']['market_data']['price_usd']\n",
    "    # Assign the exposure at each index to the price times the allocation at each index\n",
    "    exposures[i] = price * assets[i] \n",
    "    # Parse data\n",
    "    volume = format_to_json['data']['market_data']['real_volume_last_24_hours']    \n",
    "    # Print asset exposures one by one, and limit to two decimal places for cleanliness\n",
    "    print(ticker+\" Exposure in USD: ${:,.2f}\".format(exposures[i]))\n",
    "    # Print Messsari adjusted 24/hr volume for each asset one by one, and limit to two decimal places for cleanliness\n",
    "    print(ticker+\" Messsari adjusted 24/hr volume: ${:,.2f}\".format(volume))\n",
    "    # Calculate asset liquidities\n",
    "    assetLiquidity = exposures[i]/volume\n",
    "    # Print each assets relative liquidity\n",
    "    if assetLiquidity < .02:\n",
    "        print(ticker +\" exposure is liquid at {:.5%}\".format(assetLiquidity)) \n",
    "    else:\n",
    "        print(\"WARNING: \" + ticker + \" exposure is above 2% liquidity threshold at {:.2%}\".format(assetLiquidity))\n",
    "    # Blank line for formatting\n",
    "    print()\n",
    "\n"
   ]
  },
  {
   "cell_type": "code",
   "execution_count": null,
   "metadata": {},
   "outputs": [],
   "source": []
  }
 ]
}